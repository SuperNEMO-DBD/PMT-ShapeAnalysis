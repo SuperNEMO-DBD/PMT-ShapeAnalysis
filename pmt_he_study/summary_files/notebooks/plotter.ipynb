{
 "cells": [
  {
   "cell_type": "code",
   "execution_count": 7,
   "metadata": {},
   "outputs": [
    {
     "name": "stdout",
     "output_type": "stream",
     "text": [
      "Welcome to JupyROOT 6.24/02\n"
     ]
    }
   ],
   "source": [
    "import sys\n",
    "\n",
    "sys.path.insert(1, '../..')\n",
    "\n",
    "import matplotlib\n",
    "import matplotlib.pyplot as plt\n",
    "import numpy as np\n",
    "from scipy.optimize import curve_fit\n",
    "import scipy.integrate as integrate\n",
    "import csv\n",
    "import ROOT\n",
    "import time\n",
    "%matplotlib inline "
   ]
  },
  {
   "cell_type": "code",
   "execution_count": 8,
   "metadata": {},
   "outputs": [],
   "source": [
    "import matplotlib.pyplot as plt\n",
    "from matplotlib import cycler, patches\n",
    "\n",
    "IPython_default = plt.rcParams.copy()\n",
    "SMALL_SIZE = 8\n",
    "MEDIUM_SIZE = 10\n",
    "BIGGER_SIZE = 12\n",
    "\n",
    "figsize = (4.5, 3)\n",
    "\n",
    "plt.rc('font', size=SMALL_SIZE)  # controls default text sizes\n",
    "plt.rc('axes', titlesize=SMALL_SIZE)  # fontsize of the axes title\n",
    "plt.rc('axes', labelsize=SMALL_SIZE)  # fontsize of the x and y labels\n",
    "plt.rc('xtick', labelsize=SMALL_SIZE)  # fontsize of the tick labels\n",
    "plt.rc('ytick', labelsize=SMALL_SIZE)  # fontsize of the tick labels\n",
    "plt.rc('legend', fontsize=SMALL_SIZE)  # legend fontsize\n",
    "plt.rc('figure', titlesize=BIGGER_SIZE)  # fontsize of the figure title\n",
    "plt.rcParams[\"font.family\"] = \"serif\"\n",
    "\n",
    "marker_size = 3\n",
    "line_width = 0.5\n",
    "\n",
    "colors = cycler('color', ['#EE6666', '#3388BB', '#9988DD', '#EECC55', '#88BB44', '#FFBBBB', '#653700', '#F97306'])\n",
    "plt.rc('axes', facecolor='white', edgecolor='black',\n",
    "       axisbelow=True, grid=True, prop_cycle=colors)\n"
   ]
  },
  {
   "cell_type": "code",
   "execution_count": 9,
   "metadata": {},
   "outputs": [],
   "source": [
    "def linear_voltage(r, V0, d):\n",
    "    return V0*r/d\n",
    "\n",
    "def non_linear_voltage(r, V0, d):\n",
    "    return V0*(r/d)**2\n",
    "    \n",
    "def xsec(x, A, B):\n",
    "    return (A*np.log(x) + B)/x\n",
    "\n",
    "def poly(x,A,B,C,D):\n",
    "    return A*x**3 + B*x**2 + C*x + D\n",
    "\n",
    "def xsec_integrand(x, A, B):\n",
    "    return (A*np.log(x) + B)\n",
    "\n",
    "def chi2(y_obs, y_exp, y_err, Ndof):\n",
    "    return np.sum(((y_obs - y_exp)/y_err)**2)/Ndof"
   ]
  },
  {
   "cell_type": "code",
   "execution_count": 10,
   "metadata": {},
   "outputs": [],
   "source": [
    "d = 0.1   # distance from cathode to anode\n",
    "V0 = 650  # PMT total voltage\n",
    "e = 1.60217662e-19"
   ]
  },
  {
   "cell_type": "code",
   "execution_count": 11,
   "metadata": {},
   "outputs": [],
   "source": [
    "V = (4*np.pi/3)*((0.0254*4)**3)\n",
    "T = 293\n",
    "k = 1.38064852e-23\n",
    "V_0 = 588\n",
    "d = 0.1\n",
    "E_0 = 24.587\n",
    "E_1 = V_0\n",
    "x_0 = d*np.sqrt(E_0/V_0)\n",
    "x_1 = d"
   ]
  },
  {
   "cell_type": "markdown",
   "metadata": {},
   "source": [
    "$p_i(t) = \\frac{DSART}{lV}p_et + \\frac{2lSp_e}{\\pi^2V}\\sum^{\\infty}_{n=1}\\frac{\\cos(n\\pi)}{n^2}\\bigg[1 - e^{\\frac{-Dn^2\\pi^2t}{l^2}}\\bigg]$"
   ]
  },
  {
   "cell_type": "code",
   "execution_count": 44,
   "metadata": {},
   "outputs": [],
   "source": [
    "def sumat(x, D, l, n_max):\n",
    "    y = []\n",
    "    for i in range(len(x)):\n",
    "        y.append(0)\n",
    "        for n in range(1, n_max):\n",
    "            f = -(D * (n*np.pi)**2 * x[i])/(l**2)\n",
    "            y[i] += np.cos(n*np.pi)*(np.exp( f ))/(n**2)\n",
    "    return y"
   ]
  },
  {
   "cell_type": "code",
   "execution_count": 56,
   "metadata": {},
   "outputs": [],
   "source": [
    "x = np.linspace(0,0.02*24*3600, 1000)\n",
    "D = 7.74e-9  #cm2/s\n",
    "l = 0.1\n",
    "n_max = [10*(5**i) for i in range(6)]\n",
    "ys = []\n",
    "for n in n_max:\n",
    "    ys.append(np.array(sumat(x,D,l,n)))"
   ]
  },
  {
   "cell_type": "code",
   "execution_count": 73,
   "metadata": {},
   "outputs": [
    {
     "data": {
      "image/png": "[encoded data removed]",
      "text/plain": [
       "<Figure size 324x216 with 1 Axes>"
      ]
     },
     "metadata": {},
     "output_type": "display_data"
    }
   ],
   "source": [
    "plt.figure(figsize=(4.5, 3), facecolor='white')\n",
    "for i in range(3):\n",
    "    plt.plot(x/(24),(ys[i]/ys[-1] - 1) / 1e-3,label='{}'.format(n_max[i]))\n",
    "plt.legend(title = \"n_max\", loc='upper right')\n",
    "# plt.xlim(0,0.02*3600)\n",
    "# plt.yscale('log')\n",
    "plt.xlabel('time /hrs')\n",
    "plt.ylabel(r\"$\\sum_1^{nmax} X(t) / \\sum_1^{5000} X(t) - 1 $ (/10$^{-3}$)\")\n",
    "# plt.ylabel(r\"$x + 3$\")\n",
    "plt.tight_layout()\n",
    "plt.savefig('/Users/williamquinn/Desktop/PMT_Project/summation.pdf')"
   ]
  },
  {
   "cell_type": "code",
   "execution_count": 3,
   "metadata": {},
   "outputs": [],
   "source": [
    "file = ROOT.TFile(\"/Users/williamquinn/Desktop/SNEMO/200320_A1400_B1400_t0929_output.root\")"
   ]
  },
  {
   "cell_type": "code",
   "execution_count": 4,
   "metadata": {},
   "outputs": [
    {
     "name": "stdout",
     "output_type": "stream",
     "text": [
      "TFile**\t\t/Users/williamquinn/Desktop/SNEMO/200320_A1400_B1400_t0929_output.root\t\n",
      " TFile*\t\t/Users/williamquinn/Desktop/SNEMO/200320_A1400_B1400_t0929_output.root\t\n",
      "  KEY: TH1D\t200320_GAO607_charge_spectrum_1400V;1\t200320_GAO607_charge_spectrum_1400V\n",
      "  KEY: TH1D\t200320_GAO607_amplitude_spectrum_1400V;1\t200320_GAO607_amplitude_spectrum_1400V\n",
      "  KEY: TH1D\t200320_GAO607_baseline_distribution_1400V;1\t200320_GAO607_baseline_distribution_1400V\n",
      "  KEY: TH1I\t200320_GAO607_apulse_num_1400V;1\t200320_GAO607_apulse_num_1400V\n",
      "  KEY: TH1I\t200320_GAO607_apulse_times_1400V;1\t200320_GAO607_apulse_times_1400V\n",
      "  KEY: TH1D\t200320_GAO607_apulse_amplitudes_1400V;1\t200320_GAO607_apulse_amplitudes_1400V\n",
      "  KEY: TH1I\t200320_GAO607_he_apulse_num_1400V;1\t200320_GAO607_he_apulse_num_1400V\n",
      "  KEY: TH1D\t200320_GAO607_he_apulse_amplitudes_1400V;1\t200320_GAO607_he_apulse_amplitudes_1400V\n",
      "  KEY: TH1D\t200320_GAO612_charge_spectrum_1400V;1\t200320_GAO612_charge_spectrum_1400V\n",
      "  KEY: TH1D\t200320_GAO612_amplitude_spectrum_1400V;1\t200320_GAO612_amplitude_spectrum_1400V\n",
      "  KEY: TH1D\t200320_GAO612_baseline_distribution_1400V;1\t200320_GAO612_baseline_distribution_1400V\n",
      "  KEY: TH1I\t200320_GAO612_apulse_num_1400V;1\t200320_GAO612_apulse_num_1400V\n",
      "  KEY: TH1I\t200320_GAO612_apulse_times_1400V;1\t200320_GAO612_apulse_times_1400V\n",
      "  KEY: TH1D\t200320_GAO612_apulse_amplitudes_1400V;1\t200320_GAO612_apulse_amplitudes_1400V\n",
      "  KEY: TH1I\t200320_GAO612_he_apulse_num_1400V;1\t200320_GAO612_he_apulse_num_1400V\n",
      "  KEY: TH1D\t200320_GAO612_he_apulse_amplitudes_1400V;1\t200320_GAO612_he_apulse_amplitudes_1400V\n"
     ]
    }
   ],
   "source": [
    "file.ls()"
   ]
  },
  {
   "cell_type": "code",
   "execution_count": 5,
   "metadata": {},
   "outputs": [],
   "source": [
    "h_times = file.Get(\"200320_GAO607_apulse_times_1400V\")"
   ]
  },
  {
   "cell_type": "code",
   "execution_count": 6,
   "metadata": {},
   "outputs": [],
   "source": [
    "x = []\n",
    "y = []\n",
    "for i in range(1, int(h_times.GetNbinsX())+1):\n",
    "    x.append(i-1)\n",
    "    y.append(h_times.GetBinContent(i))"
   ]
  },
  {
   "cell_type": "code",
   "execution_count": 7,
   "metadata": {},
   "outputs": [],
   "source": [
    "new_x = []\n",
    "new_y = []\n",
    "j = 0\n",
    "temp = 0\n",
    "bin_width = 50\n",
    "for i in range(len(x)):\n",
    "    j += 1\n",
    "    temp += y[i]\n",
    "    if j == bin_width:\n",
    "        j = 0\n",
    "        new_x.append(x[i])\n",
    "        new_y.append(temp)\n",
    "        temp = 0"
   ]
  },
  {
   "cell_type": "code",
   "execution_count": 10,
   "metadata": {},
   "outputs": [
    {
     "name": "stdout",
     "output_type": "stream",
     "text": [
      "TFile**\t\t/Users/williamquinn/Desktop/SNEMO/pmt_short_templates.root\t\n",
      " TFile*\t\t/Users/williamquinn/Desktop/SNEMO/pmt_short_templates.root\t\n",
      "  KEY: TH1D\tTemplate_Ch0;1\tTemplate_Ch0\n",
      "  KEY: TH1D\tTemplate_Ch1;1\tTemplate_Ch1\n"
     ]
    }
   ],
   "source": [
    "template_file = ROOT.TFile(\"/Users/williamquinn/Desktop/SNEMO/pmt_short_templates.root\")\n",
    "template_file.ls()"
   ]
  },
  {
   "cell_type": "code",
   "execution_count": 11,
   "metadata": {},
   "outputs": [
    {
     "name": "stdout",
     "output_type": "stream",
     "text": [
      "1 -217.99499999999978\n",
      "2 -589.9949999999998\n",
      "3 -1531.9949999999994\n",
      "4 -4323.994999999999\n",
      "5 -10492.994999999999\n",
      "6 -20545.994999999977\n",
      "7 -30571.995\n",
      "8 -35233.99500000005\n",
      "9 -32111.995000000035\n",
      "10 -23645.994999999988\n",
      "11 -14178.994999999995\n",
      "12 -7388.995000000001\n",
      "13 -4541.995000000001\n",
      "14 -4761.994999999999\n",
      "15 -5972.995000000003\n",
      "16 -6514.994999999999\n",
      "17 -5681.995000000001\n",
      "18 -4103.994999999999\n",
      "19 -2570.994999999999\n",
      "20 -1473.9949999999994\n"
     ]
    }
   ],
   "source": [
    "h_template = template_file.Get(\"Template_Ch0\")\n",
    "x = []\n",
    "y = []\n",
    "\n",
    "for i in range(1, h_template.GetNbinsX()+1):\n",
    "    x.append(i-1)\n",
    "    y.append(h_template.GetBinContent(i))\n",
    "    print(i, h_template.GetBinContent(i))"
   ]
  },
  {
   "cell_type": "code",
   "execution_count": 12,
   "metadata": {},
   "outputs": [
    {
     "data": {
      "image/png": "[encoded data removed]",
      "text/plain": [
       "<Figure size 432x216 with 1 Axes>"
      ]
     },
     "metadata": {
      "needs_background": "light"
     },
     "output_type": "display_data"
    }
   ],
   "source": [
    "plt.figure(figsize=(6,3))\n",
    "x = np.array(x)\n",
    "y = np.array(y)\n",
    "plt.plot(x,y/1000, 'k.-')\n",
    "plt.ylabel('arbitray units')\n",
    "plt.xlabel('timestamp /ns')\n",
    "plt.grid()\n",
    "plt.xlim(x[0], x[-1])\n",
    "plt.tight_layout()\n",
    "plt.savefig(\"/Users/williamquinn/Desktop/template.png\")"
   ]
  },
  {
   "cell_type": "code",
   "execution_count": 30,
   "metadata": {},
   "outputs": [],
   "source": [
    "def get_charge( waveform, baseline, peak_cell ):\n",
    "\n",
    "    charge = 0.0\n",
    "    resistance = 50.0\n",
    "    integration = [0.1, 0.1]\n",
    "    pre_trig = 500\n",
    "\n",
    "    start,end = 0,0\n",
    "    for i in range(pre_trig, peak_cell):\n",
    "    \n",
    "        if (waveform[i] - baseline) < (waveform[peak_cell] - baseline)*integration[0]:\n",
    "            start = i\n",
    "            break\n",
    "        else:\n",
    "            continue\n",
    "    \n",
    "    for i in range(peak_cell, waveform.size):\n",
    "        if ( (waveform[i] - baseline) > (waveform[peak_cell] - baseline)*integration[1] ):\n",
    "            end = i\n",
    "            break\n",
    "        else:\n",
    "            continue\n",
    "\n",
    "    for i in range(start,end):\n",
    "        charge += (waveform[i] - baseline)\n",
    "    return (-1.0)*charge/( resistance ), start, end\n",
    "\n",
    "def get_charge_0( waveform, baseline, peak_cell ):\n",
    "\n",
    "    charge = 0.0\n",
    "    resistance = 50.0\n",
    "    integration = [0.05, 0.05]\n",
    "    pre_trig = 500\n",
    "    start = peak_cell-15\n",
    "    end= peak_cell+30\n",
    "    for i in range(start,end):\n",
    "        charge += (waveform[i] - baseline)\n",
    "    return (-1.0)*charge/( resistance )\n",
    "\n",
    "def get_baseline( waveform ):\n",
    "    pre_trig = 500\n",
    "    baseline = 0.0\n",
    "    for i in range(0, pre_trig):\n",
    "        baseline += waveform[i]\n",
    "    \n",
    "    return baseline/pre_trig\n",
    "\n",
    "\n",
    "def get_peak_cell( waveform ):\n",
    "    peak_cell = 0\n",
    "    temp = waveform[0]\n",
    "    for i in range(0, waveform.size):\n",
    "        if ( waveform[i] < temp ):\n",
    "            temp = waveform[i]\n",
    "            peak_cell = i\n",
    "    return peak_cell\n",
    "\n",
    "def gaus(x, mu, sig, A):\n",
    "    return A*np.exp(-(x - mu)**2/(2*(sig**2)))\n",
    "\n",
    "def my_func(x, mu, sig, A, p1, p2, p3, p4):\n",
    "    a = gaus(x, mu, sig, 7.08)\n",
    "    b = gaus(x, mu*(1 + 72.144/975.651), sig*1.036, 1.84)\n",
    "    c = gaus(x, mu*(1 + 84.154/975.651), sig*1.042, 0.44)\n",
    "    d = p1*(np.exp(p2*x)/(1 + np.exp((x - p3)/p4)))  \n",
    "    return A*(a+b+c) + d\n",
    "\n",
    "def my_func_0(x, mu, sig, A):\n",
    "    a = gaus(x, mu, sig, 7.08)\n",
    "    b = gaus(x, mu*(1 + 72.144/975.651), sig*1.036, 1.84)\n",
    "    c = gaus(x, mu*(1 + 84.154/975.651), sig*1.042, 0.44)\n",
    "    return A*(a+b+c)\n",
    "def comp(c, p1,p2,p3,p4):\n",
    "    return p1*(np.exp(p2*(x))/(1 + np.exp((x - p3)/p4)))"
   ]
  },
  {
   "cell_type": "code",
   "execution_count": 13,
   "metadata": {},
   "outputs": [
    {
     "name": "stderr",
     "output_type": "stream",
     "text": [
      "Info in <TCanvas::Print>: png file /Users/williamquinn/Desktop/test.png has been created\n"
     ]
    }
   ],
   "source": [
    "canvas = ROOT.TCanvas()\n",
    "h_template.Draw()\n",
    "canvas.SaveAs(\"/Users/williamquinn/Desktop/test.png\")"
   ]
  },
  {
   "cell_type": "code",
   "execution_count": 72,
   "metadata": {},
   "outputs": [
    {
     "name": "stdout",
     "output_type": "stream",
     "text": [
      "10000 events step = 21.16009497642517 s\n",
      "20000 events step = 21.02176308631897 s\n",
      "30000 events step = 20.899959087371826 s\n",
      "40000 events step = 20.98722195625305 s\n",
      "50000 events step = 21.582916021347046 s\n",
      "60000 events step = 20.90380311012268 s\n",
      "70000 events step = 21.36444067955017 s\n",
      "80000 events step = 21.51638412475586 s\n",
      "90000 events step = 21.22037386894226 s\n"
     ]
    }
   ],
   "source": [
    "filename = \"/Users/williamquinn/Desktop/PMT_Project/res_data_ch0/201216/A1000_B1000_t0918_Ch0.xml\"\n",
    "date = filename.split(\"/\")[-2]\n",
    "channel = filename.split(\"/\")[-1].split(\"_\")[-1].split(\".\")[0]\n",
    "f = open(filename, 'r')\n",
    "fl = f.readlines()\n",
    "waveforms = []\n",
    "charges = []\n",
    "charges_0 = []\n",
    "j = 0\n",
    "time_ = time.time()\n",
    "for i, line in enumerate(fl):\n",
    "    if '<trace channel=' in line:\n",
    "        waveform = np.array(line.split('>')[-1].split(' '), dtype=int)\n",
    "        waveforms.append(waveform)\n",
    "        j += 1\n",
    "        \n",
    "        peak_cell = get_peak_cell(waveform)\n",
    "        if peak_cell > 700:\n",
    "            continue\n",
    "        baseline = get_baseline(waveform)\n",
    "        # charge, start, end = get_charge(waveform, baseline, peak_cell)\n",
    "        charge_0 = get_charge_0(waveform, baseline, peak_cell)\n",
    "        # charges.append(charge)\n",
    "        charges_0.append(charge_0)\n",
    "    \n",
    "        if j % 10000 == 0:\n",
    "            temp = time.time()\n",
    "            print(j, 'events step =',temp - time_, 's')\n",
    "            time_ = temp"
   ]
  },
  {
   "cell_type": "code",
   "execution_count": 73,
   "metadata": {},
   "outputs": [
    {
     "name": "stdout",
     "output_type": "stream",
     "text": [
      "0.25\n"
     ]
    },
    {
     "data": {
      "image/png": "[encoded data removed]",
      "text/plain": [
       "<Figure size 864x432 with 1 Axes>"
      ]
     },
     "metadata": {},
     "output_type": "display_data"
    }
   ],
   "source": [
    "charges = np.array(charges)\n",
    "charges_0 = np.array(charges_0)\n",
    "\n",
    "max_charge = 60\n",
    "min_charge = 0\n",
    "n_bins = 240\n",
    "\n",
    "freq, bin_edges = np.histogram(charges, bins=n_bins, range=[min_charge,max_charge])\n",
    "bin_width = bin_edges[2] - bin_edges[1]\n",
    "bin_centres = (bin_edges + bin_width/2)[:-1]\n",
    "\n",
    "plt.figure(figsize=(12,6), facecolor='white')\n",
    "#plt.bar(bin_centres, freq, width = bin_width, color='C1', alpha=0.5)\n",
    "\n",
    "freq_0, bin_edges_0 = np.histogram(charges_0, bins=n_bins, range=[min_charge,max_charge])\n",
    "bin_width_0 = bin_edges_0[2] - bin_edges_0[1]\n",
    "print(bin_width)\n",
    "bin_centres_0 = (bin_edges_0 + bin_width_0/2)[:-1]\n",
    "\n",
    "plt.bar(bin_centres_0, freq_0, width = bin_width_0, color='C2', alpha=0.5)\n",
    "\n",
    "\n",
    "plt.grid()\n",
    "plt.xlabel('charge /pC')\n",
    "plt.ylabel('counts')\n",
    "plt.xlim(min_charge, max_charge)\n",
    "plt.tight_layout()\n",
    "#plt.savefig(\"/Users/williamquinn/Desktop/apulse_times_example.png\")"
   ]
  },
  {
   "cell_type": "code",
   "execution_count": 81,
   "metadata": {},
   "outputs": [
    {
     "name": "stdout",
     "output_type": "stream",
     "text": [
      "36.89019536239083 1.2063594247711453 225.53742427071944 3.162562779228324\n",
      " FCN=72.7389 FROM MIGRAD    STATUS=CONVERGED     111 CALLS         112 TOTAL\n",
      "                     EDM=1.31461e-09    STRATEGY= 1      ERROR MATRIX ACCURATE \n",
      "  EXT PARAMETER                                   STEP         FIRST   \n",
      "  NO.   NAME      VALUE            ERROR          SIZE      DERIVATIVE \n",
      "   1  A            2.25537e+02   2.77720e+00   3.13393e-05   2.37349e-03\n",
      "   2  mu           3.68902e+01   1.74413e-02   2.22078e-05   5.98566e-03\n",
      "   3  sigma        1.20636e+00   1.80828e-02   1.90349e-05   9.20612e-03\n"
     ]
    },
    {
     "name": "stderr",
     "output_type": "stream",
     "text": [
      "Warning in <TCanvas::Constructor>: Deleting canvas with same name: bi_spectrum\n",
      "Warning in <TROOT::Append>: Replacing existing TH1: 201216 (Potential memory leak).\n"
     ]
    },
    {
     "data": {
      "image/png": "[encoded data removed]",
      "text/plain": [
       "<IPython.core.display.Image object>"
      ]
     },
     "metadata": {},
     "output_type": "display_data"
    }
   ],
   "source": [
    "c = ROOT.TCanvas(\"bi_spectrum\",\"Bi Spectrum\",800,600)\n",
    "lower = 35.5\n",
    "higher = 42\n",
    "low_bin = int(lower / bin_width_0)\n",
    "high_bin = int(higher / bin_width_0)\n",
    "hist = ROOT.TH1D(date, date, n_bins, min_charge, max_charge)\n",
    "\n",
    "for i in range(len(charges_0)):\n",
    "    hist.Fill(charges_0[i])\n",
    "hist.GetXaxis().SetRangeUser(lower, higher)\n",
    "\n",
    "fit = ROOT.TF1(\"fit\",\n",
    "                \"[0]*\"\n",
    "                \"(7.08*TMath::Gaus(x,[1],[2]) \"\n",
    "                \" + 1.84*TMath::Gaus(x,[1]*(1 + 72.144/975.651),[2]*1.036) \"\n",
    "                \" + 0.44*TMath::Gaus(x,[1]*(1 + 84.154/975.651),[2]*1.042)) \",\n",
    "                lower, higher)\n",
    "\n",
    "fit.SetParNames(\"A\", \"mu\", \"sigma\")\n",
    "\n",
    "fit.SetParLimits(0, 0, 400)\n",
    "fit.SetParLimits(1, lower, higher)\n",
    "fit.SetParLimits(2, 0.8, 10)\n",
    "fit.SetParameters(319, (higher+lower)/2, 1.09)\n",
    "\n",
    "hist.Fit(\"fit\", \"S\", \"\", lower, higher)\n",
    "hist.Draw()\n",
    "\n",
    "c.Update()\n",
    "c.Draw()\n",
    "\n",
    "mu = fit.GetParameter(1)\n",
    "mu_err = fit.GetParError(1)\n",
    "sig = fit.GetParameter(2)\n",
    "sig_err = fit.GetParError(2)\n",
    "A = fit.GetParameter(0)\n",
    "A_err = fit.GetParError(0)\n",
    "chi = fit.GetChisquare()/fit.GetNDF()\n",
    "print(mu, sig, A, chi)"
   ]
  },
  {
   "cell_type": "code",
   "execution_count": 86,
   "metadata": {},
   "outputs": [
    {
     "data": {
      "image/png": "[encoded data removed]",
      "text/plain": [
       "<Figure size 360x216 with 2 Axes>"
      ]
     },
     "metadata": {},
     "output_type": "display_data"
    }
   ],
   "source": [
    "#PLOT\n",
    "fig1 = plt.figure(figsize=(5, 3), facecolor='white')\n",
    "#Plot Data-model\n",
    "frame1=fig1.add_axes((.125,.3,.55,.6))\n",
    "#xstart, ystart, xend, yend [units are fraction of the image frame, from bottom left corner]\n",
    "plt.bar(bin_centres_0, freq_0, width = bin_width, color='b', alpha=0.25)\n",
    "plt.errorbar(bin_centres_0[low_bin:high_bin], freq_0[low_bin:high_bin], yerr=np.sqrt(freq_0[low_bin:high_bin]), fmt='k.', label = 'Data')\n",
    "plt.plot(bin_centres_0[low_bin:high_bin],\n",
    "         my_func_0(bin_centres_0[low_bin:high_bin],mu, sig, A), 'r-',\n",
    "         label = 'Model')\n",
    "plt.plot(bin_centres_0[low_bin:high_bin], gaus(bin_centres_0[low_bin:high_bin], mu, sig, A*7.08), '--',\n",
    "        label='CE K 976 keV')\n",
    "plt.plot(bin_centres_0[low_bin:high_bin], gaus(bin_centres_0[low_bin:high_bin], mu*(1 + 72.144/975.651), sig*1.036, A*1.84), '--',\n",
    "        label='CE L 1048 keV')\n",
    "plt.plot(bin_centres_0[low_bin:high_bin], gaus(bin_centres_0[low_bin:high_bin], mu*(1 + 84.154/975.651), sig*1.042, A*0.44), '--',\n",
    "        label='CE M 1060 keV')\n",
    "frame1.set_xticklabels([])\n",
    "\n",
    "handles, labels = plt.gca().get_legend_handles_labels()\n",
    "patch = matplotlib.patches.Patch(color='white', label=r'$\\mu =$ {:.2f} ± {:.2f}'.format(mu, mu_err))\n",
    "patch_1 = matplotlib.patches.Patch(color='white', label=r'$\\sigma =$ {:.2f} ± {:.2f}'.format(sig, sig_err)) \n",
    "patch_2 = matplotlib.patches.Patch(color='white', label=r'$A =$ {:.0f} ± {:.0f}'.format(A, A_err)) \n",
    "patch_3 = matplotlib.patches.Patch(color='white', label=r'$\\chi^2_R =$ {:.2f}'.format(chi)) \n",
    "handles.extend([patch, patch_1, patch_2, patch_3])\n",
    "plt.legend(handles=handles, bbox_to_anchor=(1.0, 1))\n",
    "\n",
    "\n",
    "plt.ylabel('counts')\n",
    "plt.xlim(34, 44)\n",
    "plt.title(date + ' Resolution @1MeV: {:.2f} %'.format(sig/mu * 100))\n",
    "\n",
    "#Residual plot\n",
    "temp = (my_func_0(bin_centres_0[low_bin:high_bin],mu, sig, A) - freq_0[low_bin:high_bin])/my_func_0(bin_centres_0[low_bin:high_bin],mu, sig, A)\n",
    "temp_err = np.sqrt(freq_0[low_bin:high_bin])/my_func_0(bin_centres_0[low_bin:high_bin],mu, sig, A)\n",
    "frame2=fig1.add_axes((.125,.15,.55,.125))        \n",
    "plt.errorbar(bin_centres_0[low_bin:high_bin], temp, yerr=temp_err, fmt='k.')\n",
    "plt.xlim(34, 44)\n",
    "plt.xlabel('charge /pC')\n",
    "plt.ylim(-0.7, 0.7)\n",
    "plt.ylabel('model - data /model', fontsize=6)\n",
    "plt.axhline(0,ls = '--', color='black')\n",
    "plt.savefig(\"/Users/williamquinn/Desktop/\" + date + \"_bi_spectrum_\" + channel + \".pdf\")"
   ]
  },
  {
   "cell_type": "code",
   "execution_count": 9,
   "metadata": {},
   "outputs": [],
   "source": [
    "res = sig/mu\n",
    "res_err = np.sqrt( (mu_err/mu)**2 + (sig_err/sig)**2 )\n",
    "with open(\"/Users/williamquinn/Desktop/res_data_ch0/res_file_\" + channel + \".csv\", \"a\") as file:\n",
    "    file.write(\"\\n{},{},{},{},{},{},{},{}\".format(date, mu, mu_err, sig, sig_err, res, res_err, chi))"
   ]
  },
  {
   "cell_type": "code",
   "execution_count": 6,
   "metadata": {},
   "outputs": [],
   "source": [
    "channel = 'Ch0'\n",
    "file = open(\"/Users/williamquinn/Desktop/PMT_Project/res_data_ch0/res_file_\" + channel + \".csv\", 'r')\n",
    "fl = file.readlines()\n",
    "\n",
    "res_0 = []\n",
    "res_err_0 = []\n",
    "date_string_0 = []\n",
    "\n",
    "for i, line in enumerate(fl):\n",
    "    line_list = line.split(\",\")\n",
    "    try:\n",
    "        res_0.append(float(line_list[5].strip()))\n",
    "        res_err_0.append(float(line_list[6].strip()))\n",
    "        date_string_0.append(int(line_list[0].strip()))\n",
    "    except:\n",
    "        continue\n",
    "res_0 = np.array(res_0)*100\n",
    "res_err_0 = np.array(res_err_0)*res_0\n",
    "\n",
    "channel = 'Ch1'\n",
    "file = open(\"/Users/williamquinn/Desktop/PMT_Project/res_data_ch0/res_file_\" + channel + \".csv\", 'r')\n",
    "fl = file.readlines()\n",
    "\n",
    "res_1 = []\n",
    "res_err_1 = []\n",
    "date_string_1 = []\n",
    "\n",
    "for i, line in enumerate(fl):\n",
    "    line_list = line.split(\",\")\n",
    "    try:\n",
    "        res_1.append(float(line_list[5].strip()))\n",
    "        res_err_1.append(float(line_list[6].strip()))\n",
    "        date_string_1.append(int(line_list[0].strip()))\n",
    "    except:\n",
    "        continue\n",
    "res_1 = np.array(res_1)*100\n",
    "res_err_1 = np.array(res_err_1)*res_1"
   ]
  },
  {
   "cell_type": "code",
   "execution_count": 28,
   "metadata": {},
   "outputs": [
    {
     "data": {
      "image/png": "[encoded data removed]",
      "text/plain": [
       "<Figure size 324x216 with 1 Axes>"
      ]
     },
     "metadata": {},
     "output_type": "display_data"
    }
   ],
   "source": [
    "plt.figure(figsize=figsize, facecolor='white')\n",
    "dates = process_date(np.array(date_string_0))\n",
    "def linear(x, m, c):\n",
    "    return m*x + c\n",
    "popt_0, pcov_0 = curve_fit(f=linear, xdata = dates - np.average(dates), ydata=res_0, sigma=res_err_0,\n",
    "                      p0=[0,0])\n",
    "m_0 = popt_0[0] * 24\n",
    "m_err_0 = np.sqrt(pcov_0[0,0]) * 24\n",
    "c_0 = popt_0[1] - popt_0[0]*np.average(dates)\n",
    "c_err_0 = np.sqrt( pcov_0[1, 1]**2 + np.average(dates)*pcov_0[0, 0]**2)\n",
    "\n",
    "popt_1, pcov_1 = curve_fit(f=linear, xdata = dates - np.average(dates), ydata=res_1, sigma=res_err_1,\n",
    "                      p0=[0,0])\n",
    "m_1 = popt_1[0] * 24\n",
    "m_err_1 = np.sqrt(pcov_1[0,0]) * 24\n",
    "c_1 = popt_1[1] - popt_1[0]*np.average(dates)\n",
    "c_err_1 = np.sqrt( pcov_1[1, 1]**2 + np.average(dates)*pcov_1[0, 0]**2)\n",
    "\n",
    "s0 = r'Exposed PMT Gradient {:.3f}±{:.3f} '.format(m_0, m_err_0)\n",
    "s1 = r'Control PMT Gradient {:.3f}±{:.3f} '.format(m_1, m_err_1)\n",
    "\n",
    "plt.errorbar(dates, res_0, yerr=res_err_0, fmt='k.')\n",
    "plt.plot(dates, linear(dates, popt_0[0], c_0), 'r-',\n",
    "         label= s0 + r'/hr')\n",
    "\n",
    "\n",
    "'''plt.plot(dates, linear(dates, popt_0[0], c_0), 'r-',\n",
    "         label=r'Exposed PMT $y = ({:.0e}±{:.0e})x + ({:.4f}±{:.4f})$'.format(popt_0[0], np.sqrt(pcov_0[0, 0]), c_0, c_err_0))\n",
    "'''\n",
    "plt.errorbar(dates, res_1, yerr=res_err_1, fmt='k.')\n",
    "'''plt.plot(dates, linear(dates, popt_1[0], c_1), 'b-',\n",
    "         label=r'Control PMT $y = ({:.0e}±{:.0e})x + ({:.3f}±{:.3f})$'.format(popt_1[0], np.sqrt(pcov_1[0, 0]), c_1, c_err_1))\n",
    "'''\n",
    "plt.plot(dates, linear(dates, popt_1[0], c_1), 'b-',\n",
    "         label= s1 + r'/hr')\n",
    "\n",
    "\n",
    "plt.ylim(1.5,5)\n",
    "\n",
    "plt.xlabel('Days relative to 1% He Onset')\n",
    "plt.ylabel('Resolution at 1MeV /%')\n",
    "plt.fill_between([-100, 0], [5 ,5], alpha=0.25,\n",
    "                                 facecolor='green', label='Atmospheric He')\n",
    "plt.fill_between([0, 98], [5 ,5], alpha=0.25,\n",
    "                                 facecolor='blue', label='1% He')\n",
    "plt.fill_between([98, 500], [5 ,5], alpha=0.25,\n",
    "                                 facecolor='red', label='10% He')\n",
    "plt.xlim(-30,430)\n",
    "plt.legend(loc='best')\n",
    "plt.tight_layout()\n",
    "plt.savefig(\"/Users/williamquinn/Desktop/PMT_Project/res.pdf\")\n"
   ]
  },
  {
   "cell_type": "code",
   "execution_count": null,
   "metadata": {},
   "outputs": [],
   "source": []
  }
 ],
 "metadata": {
  "kernelspec": {
   "display_name": "Python 3 (ipykernel)",
   "language": "python",
   "name": "python3"
  },
  "language_info": {
   "codemirror_mode": {
    "name": "ipython",
    "version": 3
   },
   "file_extension": ".py",
   "mimetype": "text/x-python",
   "name": "python",
   "nbconvert_exporter": "python",
   "pygments_lexer": "ipython3",
   "version": "3.9.6"
  }
 },
 "nbformat": 4,
 "nbformat_minor": 4
}
