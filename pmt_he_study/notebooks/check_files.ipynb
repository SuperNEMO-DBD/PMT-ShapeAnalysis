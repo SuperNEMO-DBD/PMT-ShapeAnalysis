{
 "cells": [
  {
   "cell_type": "code",
   "execution_count": 1,
   "id": "d2658c54",
   "metadata": {},
   "outputs": [
    {
     "name": "stdout",
     "output_type": "stream",
     "text": [
      "Welcome to JupyROOT 6.24/02\n"
     ]
    }
   ],
   "source": [
    "import sys\n",
    "\n",
    "sys.path.insert(1, '..')\n",
    "from functions.other_functions import process_date, process_exposure, chi2, linear\n",
    "import ROOT\n",
    "import numpy as np\n",
    "import random\n",
    "import time as tm\n",
    "from scipy.optimize import curve_fit\n",
    "from scipy.signal import find_peaks\n",
    "import xml.dom.minidom as minidom"
   ]
  },
  {
   "cell_type": "code",
   "execution_count": 2,
   "id": "9a24a598",
   "metadata": {},
   "outputs": [],
   "source": [
    "import matplotlib.pyplot as plt\n",
    "from matplotlib import cycler, patches\n",
    "\n",
    "IPython_default = plt.rcParams.copy()\n",
    "SMALL_SIZE = 8\n",
    "MEDIUM_SIZE = 10\n",
    "BIGGER_SIZE = 12\n",
    "\n",
    "figsize = (4.5, 3)\n",
    "\n",
    "plt.rc('font', size=SMALL_SIZE)  # controls default text sizes\n",
    "plt.rc('axes', titlesize=SMALL_SIZE)  # fontsize of the axes title\n",
    "plt.rc('axes', labelsize=SMALL_SIZE)  # fontsize of the x and y labels\n",
    "plt.rc('xtick', labelsize=SMALL_SIZE)  # fontsize of the tick labels\n",
    "plt.rc('ytick', labelsize=SMALL_SIZE)  # fontsize of the tick labels\n",
    "plt.rc('legend', fontsize=SMALL_SIZE)  # legend fontsize\n",
    "plt.rc('figure', titlesize=BIGGER_SIZE)  # fontsize of the figure title\n",
    "plt.rcParams[\"font.family\"] = \"serif\"\n",
    "\n",
    "marker_size = 3\n",
    "line_width = 0.5\n",
    "\n",
    "colors = cycler('color', ['#EE6666', '#3388BB', '#9988DD', '#EECC55', '#88BB44', '#FFBBBB', '#653700', '#F97306'])\n",
    "plt.rc('axes', facecolor='white', edgecolor='black',\n",
    "       axisbelow=True, grid=True, prop_cycle=colors)\n",
    "\n"
   ]
  },
  {
   "cell_type": "markdown",
   "id": "ff72ca51",
   "metadata": {},
   "source": [
    "Store the information from the root file output from the xml_reader.cpp"
   ]
  },
  {
   "cell_type": "code",
   "execution_count": 3,
   "id": "c3c21e81",
   "metadata": {},
   "outputs": [],
   "source": [
    "root_file = ROOT.TFile(\"/Users/williamquinn/Desktop/PMT_Project/200117_A1400_B1400_t1003.root\", \"READ\")\n",
    "tree = root_file.T"
   ]
  },
  {
   "cell_type": "code",
   "execution_count": 4,
   "id": "d24879a4",
   "metadata": {},
   "outputs": [],
   "source": [
    "n_charges = [[], []]\n",
    "n_amplitudes = [[], []]\n",
    "n_baselines = [[], []]\n",
    "n_pars = [[], []]\n",
    "n_trigger_nums = [[], []]\n",
    "n_pulse_times = [[], []]\n",
    "for event in tree:\n",
    "    OM_ID = int(event.OM_ID)\n",
    "    pars = list(event.pulse_charge_parameters)\n",
    "    \n",
    "    trigger_num = int(event.trigger_num)\n",
    "    n_trigger_nums[OM_ID].append(trigger_num)\n",
    "    \n",
    "    charge = float(event.pulse_charge)\n",
    "    n_charges[OM_ID].append(charge)\n",
    "    \n",
    "    baseline = float(event.pulse_baseline)\n",
    "    n_baselines[OM_ID].append(baseline)\n",
    "    \n",
    "    amplitude = float(event.pulse_amplitude)\n",
    "    n_amplitudes[OM_ID].append(amplitude)\n",
    "    \n",
    "    time = event.pulse_time\n",
    "    n_pulse_times[OM_ID].append(time)"
   ]
  },
  {
   "cell_type": "code",
   "execution_count": 5,
   "id": "92d4c103",
   "metadata": {},
   "outputs": [
    {
     "data": {
      "text/plain": [
       "<matplotlib.legend.Legend at 0x17ce29970>"
      ]
     },
     "execution_count": 5,
     "metadata": {},
     "output_type": "execute_result"
    },
    {
     "data": {
      "image/png": "[encoded data removed]",
      "text/plain": [
       "<Figure size 432x288 with 1 Axes>"
      ]
     },
     "metadata": {
      "needs_background": "light"
     },
     "output_type": "display_data"
    }
   ],
   "source": [
    "freq_0, bin_edges = np.histogram(np.array(n_charges[0]), 100, range=(0, 400))\n",
    "width = bin_edges[-1] - bin_edges[-2]\n",
    "bin_centres = bin_edges[:-1] + width / 2\n",
    "freq_1, bin_edges = np.histogram(np.array(n_charges[1]), 100, range=(0, 400))\n",
    "width = bin_edges[-1] - bin_edges[-2]\n",
    "bin_centres = bin_edges[:-1] + width / 2\n",
    "\n",
    "plt.bar(bin_centres, freq_0, width=width, alpha=0.2, label='Ch0')\n",
    "plt.bar(bin_centres, freq_1, width=width, alpha=0.2, label='Ch1')\n",
    "plt.legend(loc='best')\n",
    "# plt.ylim(0,4000)"
   ]
  },
  {
   "cell_type": "markdown",
   "id": "b57f6d65",
   "metadata": {},
   "source": [
    "Create python version fo the functions used in the C++ file"
   ]
  },
  {
   "cell_type": "code",
   "execution_count": 18,
   "id": "df549bfc",
   "metadata": {},
   "outputs": [],
   "source": [
    "def get_pulse_from_root_file( filename ):\n",
    "    pulses = [[], []]\n",
    "    pulse_root_file = ROOT.TFile(filename, \"READ\")\n",
    "    for itemp in range(2):\n",
    "        temp_vector = []\n",
    "        hist_name = \"1400V_pulse_30ns_Ch{}\".format(itemp)\n",
    "\n",
    "        template_hist = pulse_root_file.Get(hist_name)\n",
    "\n",
    "        for ihist in range(1, int(template_hist.GetEntries()) + 1):\n",
    "            temp_vector.append(template_hist.GetBinContent(ihist));\n",
    "        del template_hist\n",
    "\n",
    "        pulses[itemp] = (temp_vector)\n",
    "            \n",
    "    pulse_root_file.Close()\n",
    "    \n",
    "    pulses = [-1*np.array(pulses[0])/np.amin(pulses[0]), -1*np.array(pulses[1])/np.amin(pulses[1])]\n",
    "\n",
    "    return pulses\n",
    "\n",
    "def get_baseline( vec ):\n",
    "    pre_trigger = 500\n",
    "    baseline = 0\n",
    "    for i_vec in range(pre_trigger):\n",
    "        baseline += vec[i_vec]\n",
    "    return baseline/pre_trigger\n",
    "\n",
    "def get_amplitude( vec, baseline ):\n",
    "    amplitude = vec[0]\n",
    "    for i_vec in range(len(vec)):\n",
    "        if vec[i_vec] < amplitude:\n",
    "            amplitude = vec[i_vec]\n",
    "    return (-1)*(amplitude - baseline)\n",
    "\n",
    "def get_charge( vec, baseline, peak_cell ):\n",
    "    charge = 0.0\n",
    "    for i_ch in range(peak_cell - 10, peak_cell + 20):\n",
    "        charge += vec[i_ch] - baseline\n",
    "    return (-1.0)*charge/50\n",
    "\n",
    "def get_peak_cell( vec ):\n",
    "    peak_cell = 0\n",
    "    temp = vec[0]\n",
    "    for i_vec in range(len(vec)):\n",
    "        if vec[i_vec] < temp:\n",
    "            temp = vec[i_vec]\n",
    "            peak_cell = i_vec\n",
    "    \n",
    "    return peak_cell\n",
    "\n",
    "def check_saturation(waveform, peak_cell):\n",
    "\n",
    "    for i in range(550, 750):\n",
    "        if waveform[i] == 0.0:\n",
    "            return True\n",
    "    return False\n"
   ]
  },
  {
   "cell_type": "code",
   "execution_count": 19,
   "id": "e47aeb01",
   "metadata": {},
   "outputs": [],
   "source": [
    "def get_sat_charge(vec, baseline, av_pulse, channel, peak_cell ):\n",
    "    pos = []\n",
    "    done_pos = False\n",
    "    for i_vec in range(550, 750):\n",
    "        if vec[i_vec] == 0.0:\n",
    "            done_pos = True\n",
    "            pos.append(i_vec)\n",
    "        else:\n",
    "            if (done_pos):\n",
    "                break\n",
    "\n",
    "    middle = int(len(pos) / 2)\n",
    "    the_pos = pos[middle]\n",
    "\n",
    "    pulse_r = []\n",
    "    pulse = []\n",
    "    new_pulse = []\n",
    "    xi = []\n",
    "    for i_pos in range(the_pos - 10, the_pos + 20):\n",
    "        pulse_r.append(vec[i_pos] - baseline)\n",
    "        pulse.append(vec[i_pos])\n",
    "\n",
    "    graph = ROOT.TGraphErrors()\n",
    "    n_point = 0\n",
    "    for j in range(len(pulse)):\n",
    "        if j > 14:\n",
    "            break\n",
    "        \n",
    "        if pulse[j] == 0:\n",
    "            continue\n",
    "        else:\n",
    "            new_pulse.append(pulse_r[j])\n",
    "            xi.append(j)\n",
    "            graph.SetPoint(n_point, j, pulse_r[j])\n",
    "            graph.SetPointError(n_point, 0, np.sqrt(abs(pulse_r[j])))\n",
    "            n_point+=1\n",
    "\n",
    "    temp_std = 0\n",
    "    if channel == 0:\n",
    "        temp_std = 2.22\n",
    "    else:\n",
    "        temp_std = 2.14\n",
    "    \n",
    "\n",
    "    fit = ROOT.TF1(\"fit\", \"[0]*TMath::Gaus(x, [1],{})\".format(temp_std), 0, 14)\n",
    "    fit.SetParLimits(0, -3500, -900)\n",
    "    fit.SetParLimits(1, 5, 15)\n",
    "    fit.SetParameters(-1001, 10)\n",
    "\n",
    "    graph.Fit(\"fit\", \"0Q\", \"\", 0, 14)\n",
    "    A = fit.GetParameter(0)\n",
    "    mu = fit.GetParameter(1)\n",
    "\n",
    "    if A < -3500 or A > -900:\n",
    "        print(\"The code is breaking the laws of physics\")\n",
    "\n",
    "    charge = 0.0\n",
    "    for k in range(len(av_pulse)):\n",
    "        charge += av_pulse[k]\n",
    "    charge = charge * A / 50\n",
    "\n",
    "    pulse_pars = []\n",
    "    pulse_pars.append(charge);\n",
    "    pulse_pars.append(fit.GetParameter(0))\n",
    "    pulse_pars.append(fit.GetParError(0))\n",
    "    pulse_pars.append(fit.GetParameter(1))\n",
    "    pulse_pars.append(fit.GetParError(1))\n",
    "\n",
    "    del graph\n",
    "    del fit\n",
    "\n",
    "    return pulse_pars"
   ]
  },
  {
   "cell_type": "markdown",
   "id": "8b54cac7",
   "metadata": {},
   "source": [
    "Parse the xml file to be read in for python prossessing"
   ]
  },
  {
   "cell_type": "code",
   "execution_count": 8,
   "id": "bb9e3206",
   "metadata": {},
   "outputs": [],
   "source": [
    "filename = \"/Users/williamquinn/Desktop/PMT_Project/200117_A1400_B1400_t1003.xml\"\n",
    "file = minidom.parse(filename)\n",
    "traces = file.getElementsByTagName('trace')"
   ]
  },
  {
   "cell_type": "markdown",
   "id": "400cb89a",
   "metadata": {},
   "source": [
    "Read in the PMT template pulses"
   ]
  },
  {
   "cell_type": "code",
   "execution_count": 9,
   "id": "cb618c76",
   "metadata": {},
   "outputs": [
    {
     "data": {
      "text/plain": [
       "[<matplotlib.lines.Line2D at 0x1cc8a7d90>]"
      ]
     },
     "execution_count": 9,
     "metadata": {},
     "output_type": "execute_result"
    },
    {
     "data": {
      "image/png": "[encoded data removed]",
      "text/plain": [
       "<Figure size 432x288 with 1 Axes>"
      ]
     },
     "metadata": {
      "needs_background": "light"
     },
     "output_type": "display_data"
    }
   ],
   "source": [
    "temp_pulse = get_pulse_from_root_file(\"/Users/williamquinn/Desktop/PMT_Project/1400V_pulse_30ns.root\")\n",
    "plt.plot(-1*temp_pulse[0]/np.amin(temp_pulse[0]))\n",
    "plt.plot(-1*temp_pulse[0]/np.amin(temp_pulse[0]), \".\")\n",
    "plt.plot(-1*temp_pulse[1]/np.amin(temp_pulse[1]))\n",
    "plt.plot(-1*temp_pulse[1]/np.amin(temp_pulse[1]), \".\")"
   ]
  },
  {
   "cell_type": "code",
   "execution_count": 20,
   "id": "c9b6a2f8",
   "metadata": {},
   "outputs": [
    {
     "name": "stdout",
     "output_type": "stream",
     "text": [
      "0\n",
      "10000\n",
      "20000\n",
      "30000\n",
      "40000\n",
      "50000\n",
      "60000\n",
      "70000\n",
      "80000\n",
      "90000\n",
      "100000\n",
      "110000\n",
      "120000\n",
      "130000\n",
      "140000\n",
      "150000\n",
      "160000\n",
      "170000\n",
      "180000\n",
      "190000\n",
      "200000\n",
      "210000\n",
      "220000\n",
      "230000\n",
      "240000\n",
      "250000\n",
      "260000\n",
      "270000\n",
      "280000\n",
      "290000\n",
      "300000\n",
      "310000\n",
      "320000\n",
      "330000\n",
      "340000\n",
      "350000\n",
      "360000\n",
      "370000\n",
      "380000\n",
      "390000\n"
     ]
    }
   ],
   "source": [
    "counter = 0\n",
    "fit_counter = 0\n",
    "charges = [[], []]\n",
    "amplitudes = [[], []]\n",
    "baselines = [[], []]\n",
    "ap_charges = [[], []]\n",
    "trigger_nums = [[], []]\n",
    "pars = [[], []]\n",
    "for i in range(int(traces.length)):\n",
    "    trace = traces[i].firstChild.data.split(\" \")[1:-1]\n",
    "    channel = int(traces[i].attributes['channel'].value)\n",
    "    \n",
    "    if i % 10000 == 0:\n",
    "        print(i)\n",
    "    \n",
    "    waveform = np.array(trace, dtype='float')\n",
    "\n",
    "    baseline = get_baseline(waveform)\n",
    "    peak = get_peak_cell(waveform)\n",
    "    #print(\"peak: \",peak)\n",
    "        \n",
    "    if peak < 550:\n",
    "        continue\n",
    "    elif peak > 750:\n",
    "        continue\n",
    "        \n",
    "    amplitude = get_amplitude(waveform, baseline)\n",
    "    #print(\"amplitude: \",amplitude)\n",
    "        \n",
    "    if amplitude < 50:\n",
    "        continue\n",
    "            \n",
    "    is_sat = check_saturation(waveform, peak)\n",
    "        \n",
    "    if is_sat:\n",
    "        temp_pars = get_sat_charge(waveform, baseline, temp_pulse[channel], channel, peak)\n",
    "        if len(temp_pars) == 0: \n",
    "            charge = 0\n",
    "        else:\n",
    "            charge = temp_pars[0]\n",
    "    else:\n",
    "        charge = get_charge(waveform, baseline, peak)\n",
    "        \n",
    "    #print(\"charge: \", charge)\n",
    "\n",
    "    if charge < 6:\n",
    "        continue\n",
    "            \n",
    "    amplitudes[channel].append(amplitude)\n",
    "    baselines[channel].append(baseline)\n",
    "    charges[channel].append(charge)\n",
    "    pars[channel].append(temp_pars)\n",
    "    trigger_nums[channel].append(i)\n",
    "    "
   ]
  },
  {
   "cell_type": "code",
   "execution_count": 21,
   "id": "0266ef09",
   "metadata": {},
   "outputs": [
    {
     "name": "stdout",
     "output_type": "stream",
     "text": [
      "66803 66803 0\n",
      "84631 84631 0\n",
      "66803 66803\n",
      "84631 84631\n",
      "66803 66803\n",
      "84631 84631\n",
      "66803 66803\n",
      "84631 84631\n"
     ]
    }
   ],
   "source": [
    "print(len(charges[0]), len(n_charges[0]), len(charges[0])-len(n_charges[0]))\n",
    "print(len(charges[1]), len(n_charges[1]), len(charges[1])-len(n_charges[1]))\n",
    "print(len(amplitudes[0]), len(n_amplitudes[0]))\n",
    "print(len(amplitudes[1]), len(n_amplitudes[1]))\n",
    "print(len(baselines[0]), len(n_baselines[0]))\n",
    "print(len(baselines[1]), len(n_baselines[1]))\n",
    "print(len(trigger_nums[0]), len(n_trigger_nums[0]))\n",
    "print(len(trigger_nums[1]), len(n_trigger_nums[1]))"
   ]
  },
  {
   "cell_type": "code",
   "execution_count": 23,
   "id": "acb86ef3",
   "metadata": {},
   "outputs": [
    {
     "name": "stdout",
     "output_type": "stream",
     "text": [
      "True\n",
      "True\n",
      "False\n",
      "False\n",
      "False\n",
      "False\n"
     ]
    }
   ],
   "source": [
    "print(False in (np.array(charges[0]) == np.array(n_charges[0])))\n",
    "print(False in (np.array(charges[1]) == np.array(n_charges[1])))\n",
    "print(False in (np.array(amplitudes[0]) == np.array(n_amplitudes[0])))\n",
    "print(False in (np.array(amplitudes[1]) == np.array(n_amplitudes[1])))\n",
    "print(False in (np.array(baselines[0]) == np.array(n_baselines[0])))\n",
    "print(False in (np.array(baselines[1]) == np.array(n_baselines[1])))"
   ]
  },
  {
   "cell_type": "code",
   "execution_count": null,
   "id": "55d68ec2",
   "metadata": {},
   "outputs": [],
   "source": []
  }
 ],
 "metadata": {
  "kernelspec": {
   "display_name": "Python 3 (ipykernel)",
   "language": "python",
   "name": "python3"
  },
  "language_info": {
   "codemirror_mode": {
    "name": "ipython",
    "version": 3
   },
   "file_extension": ".py",
   "mimetype": "text/x-python",
   "name": "python",
   "nbconvert_exporter": "python",
   "pygments_lexer": "ipython3",
   "version": "3.9.6"
  }
 },
 "nbformat": 4,
 "nbformat_minor": 5
}
