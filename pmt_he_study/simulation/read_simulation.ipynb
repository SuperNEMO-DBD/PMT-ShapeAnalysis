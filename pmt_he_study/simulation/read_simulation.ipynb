{
 "cells": [
  {
   "cell_type": "code",
   "execution_count": 106,
   "id": "14566255",
   "metadata": {},
   "outputs": [],
   "source": [
    "import ROOT\n",
    "import numpy as np\n",
    "import matplotlib.pyplot as plt\n",
    "import random\n",
    "import time as tm\n",
    "from scipy.optimize import curve_fit"
   ]
  },
  {
   "cell_type": "code",
   "execution_count": 107,
   "id": "74bc853e",
   "metadata": {},
   "outputs": [],
   "source": [
    "successes = []\n",
    "with open(\"/Users/williamquinn/Desktop/matrix.txt\", 'r') as read_file:\n",
    "    fl = read_file.readlines()\n",
    "    for i, line in enumerate(fl):\n",
    "        if i == 0:\n",
    "            continue\n",
    "        line_list = line.split(\",\")\n",
    "        successes.append(float(line_list[0].strip()))\n",
    "successes = np.array(successes)"
   ]
  },
  {
   "cell_type": "code",
   "execution_count": 108,
   "id": "0c0b3864",
   "metadata": {},
   "outputs": [],
   "source": [
    "in_apulse_times = []\n",
    "out_apulse_times = []\n",
    "with open(\"/Users/williamquinn/Desktop/apulses_processed.txt\", 'r') as read_file:\n",
    "    fl = read_file.readlines()\n",
    "    for i, line in enumerate(fl):\n",
    "        if i < 100:\n",
    "            continue\n",
    "        line_list = line.split(\"<apulse times>\")[-1].split(\"<apulse amplitudes>\")\n",
    "        tims = line_list[0].split(\" \")\n",
    "        tims_ = []\n",
    "        amps = line_list[1].split(\" \")\n",
    "        for j in range(len(tims)):\n",
    "            if tims[j] == '':\n",
    "                continue\n",
    "            else:\n",
    "                tims_.append(float(tims[j]))\n",
    "        out_apulse_times.append(tims_)\n",
    "with open(\"/Users/williamquinn/Desktop/apulses.txt\", 'r') as read_file:\n",
    "    fl = read_file.readlines()\n",
    "    for i, line in enumerate(fl):\n",
    "        if i < 100:\n",
    "            continue\n",
    "        line_list = line.split(\"<apulse times>\")[-1].split(\"<apulse amplitudes>\")\n",
    "        tims = line_list[0].split(\" \")\n",
    "        tims_ = []\n",
    "        amps = line_list[1].split(\" \")\n",
    "        for j in range(len(tims)):\n",
    "            if tims[j] == '':\n",
    "                continue\n",
    "            else:\n",
    "                tims_.append(float(tims[j]))\n",
    "        in_apulse_times.append(tims_)"
   ]
  },
  {
   "cell_type": "code",
   "execution_count": 234,
   "id": "66ae8fb6",
   "metadata": {},
   "outputs": [
    {
     "name": "stdout",
     "output_type": "stream",
     "text": [
      "20\n"
     ]
    }
   ],
   "source": [
    "rows = []\n",
    "successes = [0 for i in range(20)]\n",
    "failures = [0 for i in range(20)]\n",
    "n = 20\n",
    "for i in range(n):\n",
    "    success = 0\n",
    "    failure = 0\n",
    "    row = [0 for l in range(n)]\n",
    "    for j in range(1000):\n",
    "        k = j + i*1000\n",
    "        \n",
    "        in_num = len(in_apulse_times[k])\n",
    "        out_num = len(out_apulse_times[k])\n",
    "        \n",
    "        if in_num != out_num:\n",
    "            failure += 1\n",
    "        else:\n",
    "            success += 1\n",
    "        \n",
    "        if in_num > n:\n",
    "            continue\n",
    "        \n",
    "        row[out_num] += 1\n",
    "    successes[i] = (success/1000) *100\n",
    "    failures[i] = (failure/1000) *100\n",
    "      \n",
    "    rows.append(np.array(row)/1000)\n",
    "\n",
    "rows = np.array(rows)\n",
    "print(len(rows))"
   ]
  },
  {
   "cell_type": "code",
   "execution_count": 235,
   "id": "0e79ff33",
   "metadata": {},
   "outputs": [
    {
     "name": "stderr",
     "output_type": "stream",
     "text": [
      "Warning in <TFile::Append>: Replacing existing TH1: hist2d (Potential memory leak).\n"
     ]
    },
    {
     "data": {
      "image/png": "[encoded data removed]",
      "text/plain": [
       "<IPython.core.display.Image object>"
      ]
     },
     "metadata": {},
     "output_type": "display_data"
    }
   ],
   "source": [
    "c1 = ROOT.TCanvas()\n",
    "ROOT.gStyle.SetOptStat(0)\n",
    "hist2d = ROOT.TH2F(\"hist2d\", \"hist2d\", n, 0, n, n, 0, n)\n",
    "for i in range(n):\n",
    "    for j in range(n):\n",
    "        hist2d.SetBinContent(i+1,j+1,rows[i][j])\n",
    "c1.cd()\n",
    "hist2d.Draw(\"colz\")\n",
    "hist2d.GetXaxis().SetTitle(\"input apulse num\")\n",
    "hist2d.GetYaxis().SetTitle(\"output apulse num\")\n",
    "c1.SetGrid()\n",
    "c1.Draw()"
   ]
  },
  {
   "cell_type": "code",
   "execution_count": 236,
   "id": "179d6272",
   "metadata": {},
   "outputs": [],
   "source": [
    "def func(x, C, B):\n",
    "    e = np.exp(-(x - C)/B)\n",
    "    return e/(1+e)"
   ]
  },
  {
   "cell_type": "code",
   "execution_count": 237,
   "id": "df0f5eb8",
   "metadata": {},
   "outputs": [
    {
     "name": "stdout",
     "output_type": "stream",
     "text": [
      "4.2126010568655285 1.169299104754944 0.0003759638609385119\n",
      "\n",
      "****************************************\n",
      "Minimizer is Minuit / Migrad\n",
      "Chi2                      =   0.00676735\n",
      "NDf                       =           18\n",
      "Edm                       =  2.60698e-08\n",
      "NCalls                    =           65\n",
      "p0                        =       4.2126   +/-   0.050798     \t (limited)\n",
      "p1                        =       1.1693   +/-   0.0418141    \t (limited)\n"
     ]
    },
    {
     "name": "stderr",
     "output_type": "stream",
     "text": [
      "Warning in <TCanvas::Constructor>: Deleting canvas with same name: sim\n"
     ]
    },
    {
     "data": {
      "image/png": "[encoded data removed]",
      "text/plain": [
       "<IPython.core.display.Image object>"
      ]
     },
     "metadata": {},
     "output_type": "display_data"
    }
   ],
   "source": [
    "c = ROOT.TCanvas(\"sim\",\"\",800,600)\n",
    "lower = 0\n",
    "higher = 21\n",
    "bin_width_0 = 1\n",
    "low_bin = int(lower / bin_width_0)\n",
    "high_bin = int(higher / bin_width_0)\n",
    "n_bins = 21\n",
    "graph = ROOT.TGraph()\n",
    "\n",
    "for i in range(len(successes)):\n",
    "    graph.AddPoint(i, successes[i]/100)\n",
    "graph.GetXaxis().SetRangeUser(lower, higher)\n",
    "\n",
    "fit = ROOT.TF1(\"fit\",\n",
    "               \"exp(-(x-[0])/[1])/(1 + exp(-(x-[0])/[1]))\",\n",
    "               lower, higher)\n",
    "\n",
    "fit.SetParNames(\"p0\", \"p1\")\n",
    "\n",
    "# fit.SetParLimits(0, 0, 1)\n",
    "fit.SetParLimits(0, 0, 20)\n",
    "fit.SetParLimits(1, 0, 20)\n",
    "fit.SetParameters((higher+lower)/2, 2, 15)\n",
    "\n",
    "graph.Fit(\"fit\", \"S\", \"\", lower, higher)\n",
    "graph.Draw()\n",
    "\n",
    "c.Update()\n",
    "c.Draw()\n",
    "\n",
    "p0 = fit.GetParameter(0)\n",
    "p0_err = fit.GetParError(0)\n",
    "p1 = fit.GetParameter(1)\n",
    "p1_err = fit.GetParError(1)\n",
    "chi = fit.GetChisquare()/fit.GetNDF()\n",
    "print(p0, p1, chi)"
   ]
  },
  {
   "cell_type": "code",
   "execution_count": 238,
   "id": "4a60c17d",
   "metadata": {},
   "outputs": [
    {
     "name": "stdout",
     "output_type": "stream",
     "text": [
      "TFile**\t\t/Users/williamquinn/Desktop/SNEMO/200320_A1400_B1400_t0929_output.root\t\n",
      " TFile*\t\t/Users/williamquinn/Desktop/SNEMO/200320_A1400_B1400_t0929_output.root\t\n",
      "  KEY: TH1D\t200320_GAO607_charge_spectrum_1400V;1\t200320_GAO607_charge_spectrum_1400V\n",
      "  KEY: TH1D\t200320_GAO607_amplitude_spectrum_1400V;1\t200320_GAO607_amplitude_spectrum_1400V\n",
      "  KEY: TH1D\t200320_GAO607_baseline_distribution_1400V;1\t200320_GAO607_baseline_distribution_1400V\n",
      "  KEY: TH1I\t200320_GAO607_apulse_num_1400V;1\t200320_GAO607_apulse_num_1400V\n",
      "  KEY: TH1I\t200320_GAO607_apulse_times_1400V;1\t200320_GAO607_apulse_times_1400V\n",
      "  KEY: TH1D\t200320_GAO607_apulse_amplitudes_1400V;1\t200320_GAO607_apulse_amplitudes_1400V\n",
      "  KEY: TH1I\t200320_GAO607_he_apulse_num_1400V;1\t200320_GAO607_he_apulse_num_1400V\n",
      "  KEY: TH1D\t200320_GAO607_he_apulse_amplitudes_1400V;1\t200320_GAO607_he_apulse_amplitudes_1400V\n",
      "  KEY: TH1D\t200320_GAO612_charge_spectrum_1400V;1\t200320_GAO612_charge_spectrum_1400V\n",
      "  KEY: TH1D\t200320_GAO612_amplitude_spectrum_1400V;1\t200320_GAO612_amplitude_spectrum_1400V\n",
      "  KEY: TH1D\t200320_GAO612_baseline_distribution_1400V;1\t200320_GAO612_baseline_distribution_1400V\n",
      "  KEY: TH1I\t200320_GAO612_apulse_num_1400V;1\t200320_GAO612_apulse_num_1400V\n",
      "  KEY: TH1I\t200320_GAO612_apulse_times_1400V;1\t200320_GAO612_apulse_times_1400V\n",
      "  KEY: TH1D\t200320_GAO612_apulse_amplitudes_1400V;1\t200320_GAO612_apulse_amplitudes_1400V\n",
      "  KEY: TH1I\t200320_GAO612_he_apulse_num_1400V;1\t200320_GAO612_he_apulse_num_1400V\n",
      "  KEY: TH1D\t200320_GAO612_he_apulse_amplitudes_1400V;1\t200320_GAO612_he_apulse_amplitudes_1400V\n"
     ]
    },
    {
     "data": {
      "image/png": "[encoded data removed]",
      "text/plain": [
       "<IPython.core.display.Image object>"
      ]
     },
     "metadata": {},
     "output_type": "display_data"
    }
   ],
   "source": [
    "file = ROOT.TFile(\"/Users/williamquinn/Desktop/SNEMO/200320_A1400_B1400_t0929_output.root\")\n",
    "file.ls()\n",
    "c2 = ROOT.TCanvas()\n",
    "hist = file.Get(\"200320_GAO607_apulse_num_1400V\")\n",
    "c2.cd()\n",
    "hist.Draw()\n",
    "c2.Draw()"
   ]
  },
  {
   "cell_type": "code",
   "execution_count": 242,
   "id": "fb8a1099",
   "metadata": {},
   "outputs": [
    {
     "name": "stdout",
     "output_type": "stream",
     "text": [
      "20 20\n"
     ]
    }
   ],
   "source": [
    "x = []\n",
    "y = []\n",
    "for i_bin in range(1, hist.GetNbinsX()+1):\n",
    "    x.append(i_bin - 1)\n",
    "    y.append(hist.GetBinContent(i_bin))\n",
    "x = np.array(x)\n",
    "y = np.array(y)\n",
    "\n",
    "print(len(x), len(y))"
   ]
  },
  {
   "cell_type": "code",
   "execution_count": 220,
   "id": "8284b042",
   "metadata": {},
   "outputs": [
    {
     "data": {
      "text/plain": [
       "(0.0, 21.0)"
      ]
     },
     "execution_count": 220,
     "metadata": {},
     "output_type": "execute_result"
    },
    {
     "data": {
      "image/png": "[encoded data removed]",
      "text/plain": [
       "<Figure size 432x288 with 1 Axes>"
      ]
     },
     "metadata": {
      "needs_background": "light"
     },
     "output_type": "display_data"
    }
   ],
   "source": [
    "plt.bar(x + 0.5, y, width=1)\n",
    "plt.yscale('log')\n",
    "plt.xlim(0,21)"
   ]
  },
  {
   "cell_type": "code",
   "execution_count": 246,
   "id": "a3f54747",
   "metadata": {},
   "outputs": [],
   "source": [
    "y_reshape = y.reshape((y.size,1))\n",
    "# M = np.linalg.inv(rows.T)\n",
    "Mi = rows.T\n",
    "# new_y = M @ y_reshape"
   ]
  },
  {
   "cell_type": "code",
   "execution_count": 247,
   "id": "c527d8d9",
   "metadata": {},
   "outputs": [
    {
     "ename": "ValueError",
     "evalue": "operands could not be broadcast together with shapes (13,1) (20,1) ",
     "output_type": "error",
     "traceback": [
      "\u001b[0;31m---------------------------------------------------------------------------\u001b[0m",
      "\u001b[0;31mValueError\u001b[0m                                Traceback (most recent call last)",
      "\u001b[0;32m/var/folders/z0/ktldz45s5hn1fwbvyy8qxzdh0000gn/T/ipykernel_39951/2317410800.py\u001b[0m in \u001b[0;36m<module>\u001b[0;34m\u001b[0m\n\u001b[0;32m----> 1\u001b[0;31m \u001b[0mprint\u001b[0m\u001b[0;34m(\u001b[0m\u001b[0mnew_y\u001b[0m\u001b[0;34m-\u001b[0m\u001b[0my_reshape\u001b[0m\u001b[0;34m)\u001b[0m\u001b[0;34m\u001b[0m\u001b[0;34m\u001b[0m\u001b[0m\n\u001b[0m\u001b[1;32m      2\u001b[0m \u001b[0mplt\u001b[0m\u001b[0;34m.\u001b[0m\u001b[0mbar\u001b[0m\u001b[0;34m(\u001b[0m\u001b[0mx\u001b[0m \u001b[0;34m+\u001b[0m \u001b[0;36m0.5\u001b[0m\u001b[0;34m,\u001b[0m \u001b[0my\u001b[0m\u001b[0;34m/\u001b[0m\u001b[0mnp\u001b[0m\u001b[0;34m.\u001b[0m\u001b[0msum\u001b[0m\u001b[0;34m(\u001b[0m\u001b[0my\u001b[0m\u001b[0;34m)\u001b[0m\u001b[0;34m,\u001b[0m \u001b[0mwidth\u001b[0m\u001b[0;34m=\u001b[0m\u001b[0;36m1\u001b[0m\u001b[0;34m,\u001b[0m \u001b[0malpha\u001b[0m \u001b[0;34m=\u001b[0m \u001b[0;36m0.2\u001b[0m\u001b[0;34m)\u001b[0m\u001b[0;34m\u001b[0m\u001b[0;34m\u001b[0m\u001b[0m\n\u001b[1;32m      3\u001b[0m \u001b[0mplt\u001b[0m\u001b[0;34m.\u001b[0m\u001b[0mbar\u001b[0m\u001b[0;34m(\u001b[0m\u001b[0mx\u001b[0m \u001b[0;34m+\u001b[0m \u001b[0;36m0.5\u001b[0m\u001b[0;34m,\u001b[0m \u001b[0mnew_y\u001b[0m\u001b[0;34m.\u001b[0m\u001b[0mreshape\u001b[0m\u001b[0;34m(\u001b[0m\u001b[0;34m-\u001b[0m\u001b[0;36m1\u001b[0m\u001b[0;34m)\u001b[0m\u001b[0;34m/\u001b[0m\u001b[0mnp\u001b[0m\u001b[0;34m.\u001b[0m\u001b[0msum\u001b[0m\u001b[0;34m(\u001b[0m\u001b[0mnew_y\u001b[0m\u001b[0;34m.\u001b[0m\u001b[0mreshape\u001b[0m\u001b[0;34m(\u001b[0m\u001b[0;34m-\u001b[0m\u001b[0;36m1\u001b[0m\u001b[0;34m)\u001b[0m\u001b[0;34m)\u001b[0m\u001b[0;34m,\u001b[0m \u001b[0mwidth\u001b[0m \u001b[0;34m=\u001b[0m \u001b[0;36m1\u001b[0m\u001b[0;34m,\u001b[0m \u001b[0malpha\u001b[0m\u001b[0;34m=\u001b[0m\u001b[0;36m0.2\u001b[0m\u001b[0;34m)\u001b[0m\u001b[0;34m\u001b[0m\u001b[0;34m\u001b[0m\u001b[0m\n\u001b[1;32m      4\u001b[0m \u001b[0mplt\u001b[0m\u001b[0;34m.\u001b[0m\u001b[0myscale\u001b[0m\u001b[0;34m(\u001b[0m\u001b[0;34m'log'\u001b[0m\u001b[0;34m)\u001b[0m\u001b[0;34m\u001b[0m\u001b[0;34m\u001b[0m\u001b[0m\n\u001b[1;32m      5\u001b[0m \u001b[0mplt\u001b[0m\u001b[0;34m.\u001b[0m\u001b[0mxlim\u001b[0m\u001b[0;34m(\u001b[0m\u001b[0;36m0\u001b[0m\u001b[0;34m,\u001b[0m\u001b[0;36m10\u001b[0m\u001b[0;34m)\u001b[0m\u001b[0;34m\u001b[0m\u001b[0;34m\u001b[0m\u001b[0m\n",
      "\u001b[0;31mValueError\u001b[0m: operands could not be broadcast together with shapes (13,1) (20,1) "
     ]
    }
   ],
   "source": [
    "print(new_y-y_reshape)\n",
    "plt.bar(x + 0.5, y/np.sum(y), width=1, alpha = 0.2)\n",
    "plt.bar(x + 0.5, new_y.reshape(-1)/np.sum(new_y.reshape(-1)), width = 1, alpha=0.2)\n",
    "plt.yscale('log')\n",
    "plt.xlim(0,10)"
   ]
  },
  {
   "cell_type": "code",
   "execution_count": 248,
   "id": "68b20988",
   "metadata": {},
   "outputs": [],
   "source": [
    "def model(x, mu, sig, A):\n",
    "    y = A*np.exp(-(x-mu)**2/(2*sig**2))\n",
    "    y = Mi@ y\n",
    "    return y\n",
    "def gaus(x, mu, sig, A):\n",
    "    return A*np.exp(-(x-mu)**2/(2*sig**2))"
   ]
  },
  {
   "cell_type": "code",
   "execution_count": 253,
   "id": "2a396b5b",
   "metadata": {},
   "outputs": [
    {
     "name": "stdout",
     "output_type": "stream",
     "text": [
      "(20,) (20,) (20, 20)\n",
      "[4.50406516e-16 1.00000000e+00 5.00000000e+04]\n"
     ]
    },
    {
     "data": {
      "image/png": "[encoded data removed]",
      "text/plain": [
       "<Figure size 432x288 with 1 Axes>"
      ]
     },
     "metadata": {
      "needs_background": "light"
     },
     "output_type": "display_data"
    }
   ],
   "source": [
    "x = np.linspace(0,n-1,n)\n",
    "print(x.shape, y.shape, Mi.shape)\n",
    "\n",
    "mus = []\n",
    "sigs = []\n",
    "As = []\n",
    "for i in range():\n",
    "    for j in range():\n",
    "        for k in range():\n",
    "popt, pcov = curve_fit(f=model, xdata=x, ydata=y, p0=[1,1,100000], bounds=[[0,1,50000], [1000,1000,100000]], maxfev=10000)\n",
    "\n",
    "plt.bar(x + 0.5, y, width=1, alpha = 0.2)\n",
    "#plt.bar(x + 0.5, new_y.reshape(-1), width=1, alpha=0.2)\n",
    "plt.plot(x + 0.5, model(x + 0.5, *popt), '.')\n",
    "plt.plot(x + 0.5, gaus(x + 0.5, *popt), '.')\n",
    "#plt.yscale('log')\n",
    "plt.xlim(0,n)\n",
    "plt.ylim(0)\n",
    "print(popt)"
   ]
  },
  {
   "cell_type": "code",
   "execution_count": null,
   "id": "fab18060",
   "metadata": {},
   "outputs": [],
   "source": []
  }
 ],
 "metadata": {
  "kernelspec": {
   "display_name": "Python 3 (ipykernel)",
   "language": "python",
   "name": "python3"
  },
  "language_info": {
   "codemirror_mode": {
    "name": "ipython",
    "version": 3
   },
   "file_extension": ".py",
   "mimetype": "text/x-python",
   "name": "python",
   "nbconvert_exporter": "python",
   "pygments_lexer": "ipython3",
   "version": "3.9.6"
  }
 },
 "nbformat": 4,
 "nbformat_minor": 5
}
